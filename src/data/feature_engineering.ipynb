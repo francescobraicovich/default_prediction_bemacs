{
 "cells": [
  {
   "cell_type": "code",
   "execution_count": 1,
   "metadata": {},
   "outputs": [],
   "source": [
    "import pandas as pd\n",
    "import numpy as np"
   ]
  },
  {
   "cell_type": "code",
   "execution_count": 2,
   "metadata": {},
   "outputs": [],
   "source": [
    "# read imputed data\n",
    "train = pd.read_csv('../../data/processed/train_imputed.csv')\n",
    "test = pd.read_csv('../../data/processed/test_imputed.csv')\n",
    "\n",
    "# save the length of the train data\n",
    "train_len = len(train)\n",
    "\n",
    "# concatenate train and test data\n",
    "data = pd.concat([train, test], sort=False)\n",
    "\n",
    "# drop the Unnamed column\n",
    "data = data.drop(columns = ['Unnamed: 0'])"
   ]
  },
  {
   "cell_type": "code",
   "execution_count": 3,
   "metadata": {},
   "outputs": [
    {
     "data": {
      "text/plain": [
       "Index(['RevolvingUtilizationOfUnsecuredLines', 'age',\n",
       "       'NumberOfTime30-59DaysPastDueNotWorse', 'DebtRatio', 'MonthlyIncome',\n",
       "       'NumberOfOpenCreditLinesAndLoans', 'NumberOfTimes90DaysLate',\n",
       "       'NumberRealEstateLoansOrLines', 'NumberOfTime60-89DaysPastDueNotWorse',\n",
       "       'NumberOfDependents', 'SeriousDlqin2yrs'],\n",
       "      dtype='object')"
      ]
     },
     "execution_count": 3,
     "metadata": {},
     "output_type": "execute_result"
    }
   ],
   "source": [
    "data.columns"
   ]
  },
  {
   "cell_type": "code",
   "execution_count": 4,
   "metadata": {},
   "outputs": [
    {
     "name": "stdout",
     "output_type": "stream",
     "text": [
      "RevolvingUtilizationOfUnsecuredLines 125728\n",
      "age 89\n",
      "NumberOfTime30-59DaysPastDueNotWorse 16\n",
      "DebtRatio 114194\n",
      "MonthlyIncome 147820\n",
      "NumberOfOpenCreditLinesAndLoans 58\n",
      "NumberOfTimes90DaysLate 19\n",
      "NumberRealEstateLoansOrLines 28\n",
      "NumberOfTime60-89DaysPastDueNotWorse 13\n",
      "NumberOfDependents 3834\n",
      "SeriousDlqin2yrs 2\n"
     ]
    }
   ],
   "source": [
    "# print the number of unique values in each column\n",
    "for col in data.columns:\n",
    "    print(col, data[col].nunique())"
   ]
  },
  {
   "cell_type": "markdown",
   "metadata": {},
   "source": [
    "Sure, here's how you can explain each feature in markdown:\n",
    "\n",
    "1. **RevolvingUtilizationOfUnsecuredLines**: This feature represents the ratio of the total amount of credit used by the borrower to the total credit limit across all unsecured lines of credit, such as credit cards. It indicates how much of the available credit a borrower is utilizing.\n",
    "\n",
    "2. **age**: This feature denotes the age of the borrower. Age can be a significant factor in assessing credit risk, as younger individuals might have less stable financial situations or credit history compared to older individuals.\n",
    "\n",
    "3. **NumberOfTime30-59DaysPastDueNotWorse**: This feature counts the number of times a borrower has been 30-59 days past due on any credit account, but the delinquency hasn't worsened.\n",
    "\n",
    "4. **DebtRatio**: The debt ratio is calculated by dividing the total monthly debt payments by the borrower's total monthly income. It provides insight into how much of a borrower's income is being used to repay debts, which is crucial for assessing their financial health.\n",
    "\n",
    "5. **MonthlyIncome**: This feature represents the monthly income of the borrower. Monthly income is a fundamental factor in determining a borrower's ability to repay debts.\n",
    "\n",
    "6. **NumberOfOpenCreditLinesAndLoans**: It counts the total number of open credit lines and loans that a borrower has, including credit cards, installment loans, and mortgages. This can reflect the borrower's credit utilization and their ability to manage multiple credit accounts.\n",
    "\n",
    "7. **NumberOfTimes90DaysLate**: Similar to the 'NumberOfTime30-59DaysPastDueNotWorse', this feature counts the number of times a borrower has been 90 days or more past due on any credit account.\n",
    "\n",
    "8. **NumberRealEstateLoansOrLines**: This feature represents the number of real estate loans or lines of credit that the borrower has. Real estate loans include mortgages and home equity lines of credit.\n",
    "\n",
    "9. **NumberOfTime60-89DaysPastDueNotWorse**: Similar to the 'NumberOfTime30-59DaysPastDueNotWorse' and 'NumberOfTimes90DaysLate', this feature counts the number of times a borrower has been 60-89 days past due on any credit account.\n",
    "\n",
    "10. **NumberOfDependents**: This feature indicates the number of dependents that the borrower financially supports. It can be a factor in assessing the borrower's financial stability and their ability to manage additional financial responsibilities."
   ]
  },
  {
   "cell_type": "code",
   "execution_count": 5,
   "metadata": {},
   "outputs": [],
   "source": [
    "# add an income for dependent column\n",
    "data['income_dependent'] = data['MonthlyIncome'] / (data['NumberOfDependents'] + 1)"
   ]
  },
  {
   "cell_type": "code",
   "execution_count": 6,
   "metadata": {},
   "outputs": [],
   "source": [
    "# add a delinquency ratio column: \n",
    "# DelinquencyRatio = (NumberOfTime30-59DaysPastDueNotWorse + NumberOfTimes90DaysLate + NumberOfTime60-89DaysPastDueNotWorse) / NumberOfOpenCreditLinesAndLoans\n",
    "\n",
    "data['DelinquencyRatio'] = (data['NumberOfTime30-59DaysPastDueNotWorse'] + data['NumberOfTimes90DaysLate'] + data['NumberOfTime60-89DaysPastDueNotWorse']) / (data['NumberOfOpenCreditLinesAndLoans'] + 1)"
   ]
  },
  {
   "cell_type": "code",
   "execution_count": 7,
   "metadata": {},
   "outputs": [],
   "source": [
    "# split the data back into train and test\n",
    "train = data.iloc[:train_len]\n",
    "test = data.iloc[train_len:]\n",
    "\n",
    "# save the data\n",
    "train.to_csv('../../data/processed/train_imputed_engineered.csv', index=False)\n",
    "test.to_csv('../../data/processed/test_imputed_engineered.csv', index=False)"
   ]
  },
  {
   "cell_type": "code",
   "execution_count": 8,
   "metadata": {},
   "outputs": [],
   "source": [
    "from sklearn.preprocessing import PolynomialFeatures"
   ]
  },
  {
   "cell_type": "code",
   "execution_count": 14,
   "metadata": {},
   "outputs": [
    {
     "name": "stdout",
     "output_type": "stream",
     "text": [
      "(150000, 65)\n"
     ]
    }
   ],
   "source": [
    "# create a PolynomialFeatures object\n",
    "poly = PolynomialFeatures(degree=2, include_bias=False)\n",
    "\n",
    "features_to_poly = ['RevolvingUtilizationOfUnsecuredLines', 'age',\n",
    "       'NumberOfTime30-59DaysPastDueNotWorse', 'DebtRatio', 'MonthlyIncome',\n",
    "       'NumberOfOpenCreditLinesAndLoans', 'NumberOfTimes90DaysLate',\n",
    "       'NumberRealEstateLoansOrLines', 'NumberOfTime60-89DaysPastDueNotWorse',\n",
    "       'NumberOfDependents']\n",
    "\n",
    "# fit transform the data\n",
    "data_poly = poly.fit_transform(data[features_to_poly])\n",
    "\n",
    "# create a new dataframe with the polynomial features\n",
    "data_poly = pd.DataFrame(data_poly, columns=poly.get_feature_names_out(features_to_poly))\n",
    "\n",
    "print(data_poly.shape)\n",
    "\n",
    "# concatenate the data\n",
    "data = pd.concat([data, data_poly], axis=0)"
   ]
  },
  {
   "cell_type": "code",
   "execution_count": 15,
   "metadata": {},
   "outputs": [
    {
     "data": {
      "text/plain": [
       "Index(['RevolvingUtilizationOfUnsecuredLines', 'age',\n",
       "       'NumberOfTime30-59DaysPastDueNotWorse', 'DebtRatio', 'MonthlyIncome',\n",
       "       'NumberOfOpenCreditLinesAndLoans', 'NumberOfTimes90DaysLate',\n",
       "       'NumberRealEstateLoansOrLines', 'NumberOfTime60-89DaysPastDueNotWorse',\n",
       "       'NumberOfDependents', 'SeriousDlqin2yrs', 'income_dependent',\n",
       "       'DelinquencyRatio', 'RevolvingUtilizationOfUnsecuredLines^2',\n",
       "       'RevolvingUtilizationOfUnsecuredLines age',\n",
       "       'RevolvingUtilizationOfUnsecuredLines NumberOfTime30-59DaysPastDueNotWorse',\n",
       "       'RevolvingUtilizationOfUnsecuredLines DebtRatio',\n",
       "       'RevolvingUtilizationOfUnsecuredLines MonthlyIncome',\n",
       "       'RevolvingUtilizationOfUnsecuredLines NumberOfOpenCreditLinesAndLoans',\n",
       "       'RevolvingUtilizationOfUnsecuredLines NumberOfTimes90DaysLate',\n",
       "       'RevolvingUtilizationOfUnsecuredLines NumberRealEstateLoansOrLines',\n",
       "       'RevolvingUtilizationOfUnsecuredLines NumberOfTime60-89DaysPastDueNotWorse',\n",
       "       'RevolvingUtilizationOfUnsecuredLines NumberOfDependents', 'age^2',\n",
       "       'age NumberOfTime30-59DaysPastDueNotWorse', 'age DebtRatio',\n",
       "       'age MonthlyIncome', 'age NumberOfOpenCreditLinesAndLoans',\n",
       "       'age NumberOfTimes90DaysLate', 'age NumberRealEstateLoansOrLines',\n",
       "       'age NumberOfTime60-89DaysPastDueNotWorse', 'age NumberOfDependents',\n",
       "       'NumberOfTime30-59DaysPastDueNotWorse^2',\n",
       "       'NumberOfTime30-59DaysPastDueNotWorse DebtRatio',\n",
       "       'NumberOfTime30-59DaysPastDueNotWorse MonthlyIncome',\n",
       "       'NumberOfTime30-59DaysPastDueNotWorse NumberOfOpenCreditLinesAndLoans',\n",
       "       'NumberOfTime30-59DaysPastDueNotWorse NumberOfTimes90DaysLate',\n",
       "       'NumberOfTime30-59DaysPastDueNotWorse NumberRealEstateLoansOrLines',\n",
       "       'NumberOfTime30-59DaysPastDueNotWorse NumberOfTime60-89DaysPastDueNotWorse',\n",
       "       'NumberOfTime30-59DaysPastDueNotWorse NumberOfDependents',\n",
       "       'DebtRatio^2', 'DebtRatio MonthlyIncome',\n",
       "       'DebtRatio NumberOfOpenCreditLinesAndLoans',\n",
       "       'DebtRatio NumberOfTimes90DaysLate',\n",
       "       'DebtRatio NumberRealEstateLoansOrLines',\n",
       "       'DebtRatio NumberOfTime60-89DaysPastDueNotWorse',\n",
       "       'DebtRatio NumberOfDependents', 'MonthlyIncome^2',\n",
       "       'MonthlyIncome NumberOfOpenCreditLinesAndLoans',\n",
       "       'MonthlyIncome NumberOfTimes90DaysLate',\n",
       "       'MonthlyIncome NumberRealEstateLoansOrLines',\n",
       "       'MonthlyIncome NumberOfTime60-89DaysPastDueNotWorse',\n",
       "       'MonthlyIncome NumberOfDependents', 'NumberOfOpenCreditLinesAndLoans^2',\n",
       "       'NumberOfOpenCreditLinesAndLoans NumberOfTimes90DaysLate',\n",
       "       'NumberOfOpenCreditLinesAndLoans NumberRealEstateLoansOrLines',\n",
       "       'NumberOfOpenCreditLinesAndLoans NumberOfTime60-89DaysPastDueNotWorse',\n",
       "       'NumberOfOpenCreditLinesAndLoans NumberOfDependents',\n",
       "       'NumberOfTimes90DaysLate^2',\n",
       "       'NumberOfTimes90DaysLate NumberRealEstateLoansOrLines',\n",
       "       'NumberOfTimes90DaysLate NumberOfTime60-89DaysPastDueNotWorse',\n",
       "       'NumberOfTimes90DaysLate NumberOfDependents',\n",
       "       'NumberRealEstateLoansOrLines^2',\n",
       "       'NumberRealEstateLoansOrLines NumberOfTime60-89DaysPastDueNotWorse',\n",
       "       'NumberRealEstateLoansOrLines NumberOfDependents',\n",
       "       'NumberOfTime60-89DaysPastDueNotWorse^2',\n",
       "       'NumberOfTime60-89DaysPastDueNotWorse NumberOfDependents',\n",
       "       'NumberOfDependents^2'],\n",
       "      dtype='object')"
      ]
     },
     "execution_count": 15,
     "metadata": {},
     "output_type": "execute_result"
    }
   ],
   "source": [
    "data.columns"
   ]
  },
  {
   "cell_type": "code",
   "execution_count": 16,
   "metadata": {},
   "outputs": [],
   "source": [
    "# split the data back into train and test\n",
    "train = data.iloc[:train_len]\n",
    "test = data.iloc[train_len:]\n",
    "\n",
    "# save the data\n",
    "train.to_csv('../../data/processed/train_imputed_engineered_poly.csv', index=False)\n",
    "test.to_csv('../../data/processed/test_imputed_engineered_poly.csv', index=False)"
   ]
  }
 ],
 "metadata": {
  "kernelspec": {
   "display_name": "myenv",
   "language": "python",
   "name": "python3"
  },
  "language_info": {
   "codemirror_mode": {
    "name": "ipython",
    "version": 3
   },
   "file_extension": ".py",
   "mimetype": "text/x-python",
   "name": "python",
   "nbconvert_exporter": "python",
   "pygments_lexer": "ipython3",
   "version": "3.12.2"
  }
 },
 "nbformat": 4,
 "nbformat_minor": 2
}

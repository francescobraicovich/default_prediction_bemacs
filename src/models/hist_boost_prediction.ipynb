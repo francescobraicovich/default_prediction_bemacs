{
 "cells": [
  {
   "cell_type": "code",
   "execution_count": 174,
   "metadata": {},
   "outputs": [],
   "source": [
    "import pandas as pd\n",
    "import numpy as np\n",
    "import matplotlib.pyplot as plt\n",
    "import warnings\n",
    "\n",
    "import pickle\n",
    "\n",
    "from sklearn.model_selection import train_test_split\n",
    "from sklearn.ensemble import HistGradientBoostingClassifier\n",
    "from sklearn.metrics import accuracy_score, roc_auc_score, f1_score, precision_score, recall_score, confusion_matrix\n",
    "from xgboost import XGBClassifier\n",
    "\n",
    "from tune_model import tune"
   ]
  },
  {
   "cell_type": "code",
   "execution_count": 175,
   "metadata": {},
   "outputs": [],
   "source": [
    "# load the train data\n",
    "data = pd.read_csv('../../data/processed/engineered_features_data/train_imputed_engineered_poly.csv')\n",
    "\n",
    "# load the selected features from the .pkl file\n",
    "with open('../../data/processed/selected_features/rfecv_features_to_keep.pkl', 'rb') as f:\n",
    "    selected_features = pickle.load(f)"
   ]
  },
  {
   "cell_type": "code",
   "execution_count": 176,
   "metadata": {},
   "outputs": [],
   "source": [
    "data_to_use = data[selected_features]\n",
    "\n",
    "# split the data into train and test\n",
    "X_train, X_test, y_train, y_test = train_test_split(data_to_use.drop('SeriousDlqin2yrs', axis=1), data_to_use['SeriousDlqin2yrs'], test_size=0.2, random_state=42)"
   ]
  },
  {
   "cell_type": "code",
   "execution_count": 177,
   "metadata": {},
   "outputs": [],
   "source": [
    "# define the space of hyperparameters to search\n",
    "param_space = {\n",
    "    'max_iter': [200],\n",
    "    'max_depth': [10, 20, 30],\n",
    "    'l2_regularization': [0, 0.001],\n",
    "    'max_features': [0.5, 0.75, 1.0],\n",
    "    'learning_rate': [0.1],\n",
    "    'min_samples_leaf': [10, 20, 30],\n",
    "    'class_weight': ['balanced'],\n",
    "}\n",
    "\n",
    "model = HistGradientBoostingClassifier()"
   ]
  },
  {
   "cell_type": "code",
   "execution_count": 178,
   "metadata": {},
   "outputs": [
    {
     "name": "stdout",
     "output_type": "stream",
     "text": [
      "Fitting 3 folds for each of 54 candidates, totalling 162 fits\n",
      "Best Score: 0.8625496489782695\n",
      "Best Hyperparameters:\n",
      "class_weight: balanced\n",
      "l2_regularization: 0\n",
      "learning_rate: 0.1\n",
      "max_depth: 20\n",
      "max_features: 0.5\n",
      "max_iter: 200\n",
      "min_samples_leaf: 10\n"
     ]
    }
   ],
   "source": [
    "# tune the model\n",
    "\n",
    "best_params, best_model = tune(X=X_train, y=y_train, space=param_space, \n",
    "                               model=model, search_type='grid', n_iter_random=120, \n",
    "                               n_splits=3, n_repeats=1, scoring='roc_auc')"
   ]
  },
  {
   "cell_type": "code",
   "execution_count": 179,
   "metadata": {},
   "outputs": [],
   "source": [
    "# save the model\n",
    "with open('../../models/hist_gradient_boosting_classifier.pkl', 'wb') as f:\n",
    "    pickle.dump(best_model, f)"
   ]
  },
  {
   "cell_type": "code",
   "execution_count": 180,
   "metadata": {},
   "outputs": [
    {
     "name": "stdout",
     "output_type": "stream",
     "text": [
      "Accuracy: 0.7960444444444444\n",
      "ROC AUC: 0.7811025400999293\n",
      "F1 score: 0.3291916386493203\n",
      "Precision: 0.2098006335010248\n",
      "Recall: 0.7639077340569878\n",
      "Confusion matrix: [[16785  4241]\n",
      " [  348  1126]]\n"
     ]
    }
   ],
   "source": [
    "# evaluate on the test set\n",
    "y_pred = best_model.predict(X_test)\n",
    "\n",
    "# print the evaluation metrics\n",
    "print(f'Accuracy: {accuracy_score(y_test, y_pred)}')\n",
    "print(f'ROC AUC: {roc_auc_score(y_test, y_pred)}')\n",
    "print(f'F1 score: {f1_score(y_test, y_pred)}')\n",
    "print(f'Precision: {precision_score(y_test, y_pred)}')\n",
    "print(f'Recall: {recall_score(y_test, y_pred)}')\n",
    "print(f'Confusion matrix: {confusion_matrix(y_test, y_pred)}')"
   ]
  }
 ],
 "metadata": {
  "kernelspec": {
   "display_name": "myenv",
   "language": "python",
   "name": "python3"
  },
  "language_info": {
   "codemirror_mode": {
    "name": "ipython",
    "version": 3
   },
   "file_extension": ".py",
   "mimetype": "text/x-python",
   "name": "python",
   "nbconvert_exporter": "python",
   "pygments_lexer": "ipython3",
   "version": "3.12.2"
  }
 },
 "nbformat": 4,
 "nbformat_minor": 2
}
